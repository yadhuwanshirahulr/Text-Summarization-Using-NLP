{
 "cells": [
  {
   "cell_type": "code",
   "execution_count": 3,
   "id": "f0ed129a",
   "metadata": {},
   "outputs": [],
   "source": [
    "import spacy\n",
    "from spacy.lang.en.stop_words import STOP_WORDS\n",
    "from string import punctuation"
   ]
  },
  {
   "cell_type": "code",
   "execution_count": 4,
   "id": "b4d88759",
   "metadata": {},
   "outputs": [
    {
     "data": {
      "text/plain": [
       "['first',\n",
       " 'meanwhile',\n",
       " 'her',\n",
       " 'take',\n",
       " 'few',\n",
       " 'seeming',\n",
       " 'much',\n",
       " 'fifteen',\n",
       " 'else',\n",
       " 'alone',\n",
       " \"'re\",\n",
       " 'doing',\n",
       " 'become',\n",
       " 'may',\n",
       " 'it',\n",
       " 'full',\n",
       " 'although',\n",
       " 'no',\n",
       " 'had',\n",
       " 'both',\n",
       " 'up',\n",
       " '‘re',\n",
       " 'someone',\n",
       " 'such',\n",
       " 'via',\n",
       " 'since',\n",
       " 'none',\n",
       " 'in',\n",
       " 'done',\n",
       " 'was',\n",
       " 'where',\n",
       " '’ve',\n",
       " 'besides',\n",
       " 'nothing',\n",
       " 'several',\n",
       " 'under',\n",
       " 'sometime',\n",
       " 'side',\n",
       " 'because',\n",
       " 'beforehand',\n",
       " 'myself',\n",
       " 'show',\n",
       " \"'d\",\n",
       " 'also',\n",
       " 'cannot',\n",
       " 'upon',\n",
       " 'serious',\n",
       " 'top',\n",
       " 'often',\n",
       " 'yourselves',\n",
       " 'afterwards',\n",
       " 'anyhow',\n",
       " '’m',\n",
       " 'will',\n",
       " 'many',\n",
       " 'as',\n",
       " 'i',\n",
       " 'six',\n",
       " 'whom',\n",
       " 'she',\n",
       " 'really',\n",
       " 'through',\n",
       " 'keep',\n",
       " 'we',\n",
       " 'part',\n",
       " 'became',\n",
       " 'wherein',\n",
       " 'of',\n",
       " 'one',\n",
       " 'go',\n",
       " 'whence',\n",
       " 'almost',\n",
       " 'on',\n",
       " 'nor',\n",
       " 'over',\n",
       " 'himself',\n",
       " '’ll',\n",
       " 'otherwise',\n",
       " 'or',\n",
       " 'themselves',\n",
       " 'around',\n",
       " 'mine',\n",
       " 'though',\n",
       " 'hence',\n",
       " 'off',\n",
       " 'then',\n",
       " 'all',\n",
       " 'anyway',\n",
       " 'noone',\n",
       " 'beyond',\n",
       " 'thereafter',\n",
       " 'for',\n",
       " 'out',\n",
       " 'everyone',\n",
       " 'whose',\n",
       " 'at',\n",
       " 'amount',\n",
       " 'next',\n",
       " 'five',\n",
       " 'namely',\n",
       " 'every',\n",
       " 'those',\n",
       " 'please',\n",
       " 'latter',\n",
       " 'there',\n",
       " '‘ll',\n",
       " 'used',\n",
       " 'what',\n",
       " 'beside',\n",
       " '‘m',\n",
       " 'mostly',\n",
       " '’re',\n",
       " 'among',\n",
       " 'these',\n",
       " 'above',\n",
       " 'yours',\n",
       " 'across',\n",
       " 'back',\n",
       " 'therein',\n",
       " 'least',\n",
       " 'has',\n",
       " 'various',\n",
       " 'somehow',\n",
       " 'its',\n",
       " 'own',\n",
       " 'seemed',\n",
       " 'each',\n",
       " 'perhaps',\n",
       " 'with',\n",
       " 'while',\n",
       " 'give',\n",
       " \"'m\",\n",
       " 'thus',\n",
       " 'down',\n",
       " 'into',\n",
       " 'which',\n",
       " 'itself',\n",
       " 'whereupon',\n",
       " 'herein',\n",
       " 'seem',\n",
       " 'hereafter',\n",
       " 'using',\n",
       " 'twelve',\n",
       " 'twenty',\n",
       " 'and',\n",
       " 'he',\n",
       " 'even',\n",
       " 'three',\n",
       " 'wherever',\n",
       " 'you',\n",
       " 'should',\n",
       " '‘ve',\n",
       " '’d',\n",
       " 'being',\n",
       " 'throughout',\n",
       " 'must',\n",
       " 'are',\n",
       " 'this',\n",
       " 'hers',\n",
       " 'whereby',\n",
       " 'say',\n",
       " 'when',\n",
       " 'only',\n",
       " 'ever',\n",
       " 'less',\n",
       " 'ours',\n",
       " 'that',\n",
       " 'without',\n",
       " 'his',\n",
       " 'yourself',\n",
       " 'still',\n",
       " 'were',\n",
       " 'another',\n",
       " 'us',\n",
       " 'thereupon',\n",
       " 'therefore',\n",
       " '‘d',\n",
       " 'get',\n",
       " 'n‘t',\n",
       " 'do',\n",
       " 'anywhere',\n",
       " 'until',\n",
       " 'here',\n",
       " 'amongst',\n",
       " 'me',\n",
       " 'once',\n",
       " 'together',\n",
       " 'very',\n",
       " 'from',\n",
       " 'everything',\n",
       " 'be',\n",
       " 'former',\n",
       " 'due',\n",
       " 'per',\n",
       " 'bottom',\n",
       " 'been',\n",
       " 'they',\n",
       " 'two',\n",
       " 'ten',\n",
       " 'too',\n",
       " 'whereas',\n",
       " 'four',\n",
       " 'formerly',\n",
       " 'nowhere',\n",
       " 'against',\n",
       " 're',\n",
       " 'might',\n",
       " 'forty',\n",
       " 'our',\n",
       " 'moreover',\n",
       " 'unless',\n",
       " 'some',\n",
       " 'whoever',\n",
       " 'an',\n",
       " 'your',\n",
       " 'nine',\n",
       " 'latterly',\n",
       " 'any',\n",
       " 'last',\n",
       " 'becoming',\n",
       " \"n't\",\n",
       " 'would',\n",
       " 'something',\n",
       " 'during',\n",
       " 'have',\n",
       " 'along',\n",
       " 'move',\n",
       " 'enough',\n",
       " 'after',\n",
       " 'others',\n",
       " 'never',\n",
       " 'becomes',\n",
       " 'sometimes',\n",
       " 'somewhere',\n",
       " 'whatever',\n",
       " 'why',\n",
       " 'just',\n",
       " 'make',\n",
       " 'not',\n",
       " 'a',\n",
       " 'thence',\n",
       " 'eight',\n",
       " 'fifty',\n",
       " 'whole',\n",
       " 'ourselves',\n",
       " 'well',\n",
       " 'already',\n",
       " 'nobody',\n",
       " 'is',\n",
       " 'whenever',\n",
       " 'hereby',\n",
       " 'further',\n",
       " 'name',\n",
       " 'about',\n",
       " 'between',\n",
       " 'neither',\n",
       " 'does',\n",
       " 'to',\n",
       " 'however',\n",
       " 'the',\n",
       " 'rather',\n",
       " 'whereafter',\n",
       " 'herself',\n",
       " 'so',\n",
       " 'my',\n",
       " 'anything',\n",
       " 'quite',\n",
       " 'call',\n",
       " 'them',\n",
       " 'always',\n",
       " 'below',\n",
       " 'am',\n",
       " 'see',\n",
       " 'seems',\n",
       " 'within',\n",
       " 'other',\n",
       " 'whether',\n",
       " 'who',\n",
       " 'yet',\n",
       " 'anyone',\n",
       " 'than',\n",
       " \"'ll\",\n",
       " 'eleven',\n",
       " 'again',\n",
       " 'regarding',\n",
       " 'same',\n",
       " 'sixty',\n",
       " 'their',\n",
       " 'him',\n",
       " 'more',\n",
       " 'elsewhere',\n",
       " 'now',\n",
       " 'could',\n",
       " 'hundred',\n",
       " 'most',\n",
       " 'by',\n",
       " 'either',\n",
       " 'made',\n",
       " \"'s\",\n",
       " 'thru',\n",
       " \"'ve\",\n",
       " '’s',\n",
       " 'except',\n",
       " 'hereupon',\n",
       " 'put',\n",
       " 'ca',\n",
       " 'before',\n",
       " 'onto',\n",
       " 'towards',\n",
       " 'but',\n",
       " 'whither',\n",
       " 'third',\n",
       " 'indeed',\n",
       " 'toward',\n",
       " 'everywhere',\n",
       " 'n’t',\n",
       " 'empty',\n",
       " 'behind',\n",
       " 'did',\n",
       " 'if',\n",
       " 'can',\n",
       " 'thereby',\n",
       " '‘s',\n",
       " 'nevertheless',\n",
       " 'front',\n",
       " 'how']"
      ]
     },
     "execution_count": 4,
     "metadata": {},
     "output_type": "execute_result"
    }
   ],
   "source": [
    "stopwords = list(STOP_WORDS)\n",
    "stopwords"
   ]
  },
  {
   "cell_type": "code",
   "execution_count": 5,
   "id": "f68d7a5b",
   "metadata": {},
   "outputs": [],
   "source": [
    "nlp = spacy.load('en_core_web_sm')"
   ]
  },
  {
   "cell_type": "code",
   "execution_count": 6,
   "id": "dc7aaeca",
   "metadata": {},
   "outputs": [],
   "source": [
    "text = \"Only Bihar's media talks about Nitish Kumar, the chief minister's former aide remarked.Mocking both Nitish Kumar and Rashtriya Janata Dal (RJD) over their participation in the joint opposition alliance to take on the ruling BJP in next year's Lok Sabha polls, political strategist Prashant Kishor on Tuesday wondered what role a party with 0 Lok Sabha MPs (RJD) and a leader losing foothold in his own state (Kumar) would play in deciding who runs the country after the 2024 general elections.RJD does not have a single MP from Bihar…is it possible for such a party to decide who governs the nation? Nitish ji has all of 42 legislators and 16 MPs due to his previous alliance. When you are becoming less powerful by the day, what role can you play in national politics?” Kishor says in a video uploaded by his office on X, the social media platform earlier known as Twitter.Kishor, a former leader of Kumar's Janata Dal (United), who has, however, become a fierce critic of the Bihar chief minister, continued against the veteran politician: “Nitish ji's own condition is so bad, his foothold is shrinking in his own state. If you look at the order of precedence in the opposition bloc, the Congress is the largest party, followed by the Trinamool, then the DMK…parties which govern states with full authority and have 20-25 MPs. Nitish Kumar ji, however, has nothing…he has no party or image left. Only Bihar's media talks about Nitish Kumar…you go to other states, nobody talks about him.”He reiterated that Bihars ruling Mahagathbandhan (Grand Alliance) is relevant only to the state, and does not matter in national politics.\""
   ]
  },
  {
   "cell_type": "code",
   "execution_count": 7,
   "id": "eaa9ead0",
   "metadata": {},
   "outputs": [],
   "source": [
    "doc = nlp(text)"
   ]
  },
  {
   "cell_type": "code",
   "execution_count": 8,
   "id": "c2cd232a",
   "metadata": {},
   "outputs": [
    {
     "name": "stdout",
     "output_type": "stream",
     "text": [
      "['Only', 'Bihar', \"'s\", 'media', 'talks', 'about', 'Nitish', 'Kumar', ',', 'the', 'chief', 'minister', \"'s\", 'former', 'aide', 'remarked', '.', 'Mocking', 'both', 'Nitish', 'Kumar', 'and', 'Rashtriya', 'Janata', 'Dal', '(', 'RJD', ')', 'over', 'their', 'participation', 'in', 'the', 'joint', 'opposition', 'alliance', 'to', 'take', 'on', 'the', 'ruling', 'BJP', 'in', 'next', 'year', \"'s\", 'Lok', 'Sabha', 'polls', ',', 'political', 'strategist', 'Prashant', 'Kishor', 'on', 'Tuesday', 'wondered', 'what', 'role', 'a', 'party', 'with', '0', 'Lok', 'Sabha', 'MPs', '(', 'RJD', ')', 'and', 'a', 'leader', 'losing', 'foothold', 'in', 'his', 'own', 'state', '(', 'Kumar', ')', 'would', 'play', 'in', 'deciding', 'who', 'runs', 'the', 'country', 'after', 'the', '2024', 'general', 'elections', '.', 'RJD', 'does', 'not', 'have', 'a', 'single', 'MP', 'from', 'Bihar', '…', 'is', 'it', 'possible', 'for', 'such', 'a', 'party', 'to', 'decide', 'who', 'governs', 'the', 'nation', '?', 'Nitish', 'ji', 'has', 'all', 'of', '42', 'legislators', 'and', '16', 'MPs', 'due', 'to', 'his', 'previous', 'alliance', '.', 'When', 'you', 'are', 'becoming', 'less', 'powerful', 'by', 'the', 'day', ',', 'what', 'role', 'can', 'you', 'play', 'in', 'national', 'politics', '?', '”', 'Kishor', 'says', 'in', 'a', 'video', 'uploaded', 'by', 'his', 'office', 'on', 'X', ',', 'the', 'social', 'media', 'platform', 'earlier', 'known', 'as', 'Twitter', '.', 'Kishor', ',', 'a', 'former', 'leader', 'of', 'Kumar', \"'s\", 'Janata', 'Dal', '(', 'United', ')', ',', 'who', 'has', ',', 'however', ',', 'become', 'a', 'fierce', 'critic', 'of', 'the', 'Bihar', 'chief', 'minister', ',', 'continued', 'against', 'the', 'veteran', 'politician', ':', '“', 'Nitish', 'ji', \"'s\", 'own', 'condition', 'is', 'so', 'bad', ',', 'his', 'foothold', 'is', 'shrinking', 'in', 'his', 'own', 'state', '.', 'If', 'you', 'look', 'at', 'the', 'order', 'of', 'precedence', 'in', 'the', 'opposition', 'bloc', ',', 'the', 'Congress', 'is', 'the', 'largest', 'party', ',', 'followed', 'by', 'the', 'Trinamool', ',', 'then', 'the', 'DMK', '…', 'parties', 'which', 'govern', 'states', 'with', 'full', 'authority', 'and', 'have', '20', '-', '25', 'MPs', '.', 'Nitish', 'Kumar', 'ji', ',', 'however', ',', 'has', 'nothing', '…', 'he', 'has', 'no', 'party', 'or', 'image', 'left', '.', 'Only', 'Bihar', \"'s\", 'media', 'talks', 'about', 'Nitish', 'Kumar', '…', 'you', 'go', 'to', 'other', 'states', ',', 'nobody', 'talks', 'about', 'him', '.', '”He', 'reiterated', 'that', 'Bihars', 'ruling', 'Mahagathbandhan', '(', 'Grand', 'Alliance', ')', 'is', 'relevant', 'only', 'to', 'the', 'state', ',', 'and', 'does', 'not', 'matter', 'in', 'national', 'politics', '.']\n"
     ]
    }
   ],
   "source": [
    "tokens = [token.text for token in doc]\n",
    "print(tokens)"
   ]
  },
  {
   "cell_type": "code",
   "execution_count": 17,
   "id": "75c7923c",
   "metadata": {},
   "outputs": [
    {
     "data": {
      "text/plain": [
       "'!\"#$%&\\'()*+,-./:;<=>?@[\\\\]^_`{|}~\\n\\n\\n\\n\\n\\n\\n'"
      ]
     },
     "execution_count": 17,
     "metadata": {},
     "output_type": "execute_result"
    }
   ],
   "source": [
    "punctuation = punctuation + '\\n'\n",
    "punctuation"
   ]
  },
  {
   "cell_type": "code",
   "execution_count": 26,
   "id": "9ae7f612",
   "metadata": {},
   "outputs": [],
   "source": [
    "word_frequencies = {}\n",
    "for word in doc:\n",
    "    if word.text.lower() not in stopwords:\n",
    "        if word.text.lower() not in punctuation:\n",
    "            if word.text not in word_frequencies.keys():\n",
    "                word_frequencies[word.text] =1\n",
    "            else:\n",
    "                word_frequencies[word.text] += 1"
   ]
  },
  {
   "cell_type": "code",
   "execution_count": 28,
   "id": "28ab872b",
   "metadata": {},
   "outputs": [
    {
     "name": "stdout",
     "output_type": "stream",
     "text": [
      "{'Bihar': 4, 'media': 3, 'talks': 3, 'Nitish': 6, 'Kumar': 6, 'chief': 2, 'minister': 2, 'aide': 1, 'remarked': 1, 'Mocking': 1, 'Rashtriya': 1, 'Janata': 2, 'Dal': 2, 'RJD': 3, 'participation': 1, 'joint': 1, 'opposition': 2, 'alliance': 2, 'ruling': 2, 'BJP': 1, 'year': 1, 'Lok': 2, 'Sabha': 2, 'polls': 1, 'political': 1, 'strategist': 1, 'Prashant': 1, 'Kishor': 3, 'Tuesday': 1, 'wondered': 1, 'role': 2, 'party': 4, '0': 1, 'MPs': 3, 'leader': 2, 'losing': 1, 'foothold': 2, 'state': 3, 'play': 2, 'deciding': 1, 'runs': 1, 'country': 1, '2024': 1, 'general': 1, 'elections': 1, 'single': 1, 'MP': 1, '…': 4, 'possible': 1, 'decide': 1, 'governs': 1, 'nation': 1, 'ji': 3, '42': 1, 'legislators': 1, '16': 1, 'previous': 1, 'powerful': 1, 'day': 1, 'national': 2, 'politics': 2, '”': 1, 'says': 1, 'video': 1, 'uploaded': 1, 'office': 1, 'X': 1, 'social': 1, 'platform': 1, 'earlier': 1, 'known': 1, 'Twitter': 1, 'United': 1, 'fierce': 1, 'critic': 1, 'continued': 1, 'veteran': 1, 'politician': 1, '“': 1, 'condition': 1, 'bad': 1, 'shrinking': 1, 'look': 1, 'order': 1, 'precedence': 1, 'bloc': 1, 'Congress': 1, 'largest': 1, 'followed': 1, 'Trinamool': 1, 'DMK': 1, 'parties': 1, 'govern': 1, 'states': 2, 'authority': 1, '20': 1, '25': 1, 'image': 1, 'left': 1, '”He': 1, 'reiterated': 1, 'Bihars': 1, 'Mahagathbandhan': 1, 'Grand': 1, 'Alliance': 1, 'relevant': 1, 'matter': 1}\n"
     ]
    }
   ],
   "source": [
    "print(word_frequencies)"
   ]
  },
  {
   "cell_type": "code",
   "execution_count": 29,
   "id": "e8f453dc",
   "metadata": {},
   "outputs": [],
   "source": [
    "max_frequency = max(word_frequencies.values())"
   ]
  },
  {
   "cell_type": "code",
   "execution_count": 30,
   "id": "340dd743",
   "metadata": {},
   "outputs": [
    {
     "data": {
      "text/plain": [
       "6"
      ]
     },
     "execution_count": 30,
     "metadata": {},
     "output_type": "execute_result"
    }
   ],
   "source": [
    "max_frequency"
   ]
  },
  {
   "cell_type": "code",
   "execution_count": 31,
   "id": "c8217677",
   "metadata": {},
   "outputs": [],
   "source": [
    "for word in word_frequencies.keys():\n",
    "    word_frequencies[word] = word_frequencies[word]/max_frequency"
   ]
  },
  {
   "cell_type": "code",
   "execution_count": 32,
   "id": "a0906305",
   "metadata": {},
   "outputs": [
    {
     "name": "stdout",
     "output_type": "stream",
     "text": [
      "{'Bihar': 0.6666666666666666, 'media': 0.5, 'talks': 0.5, 'Nitish': 1.0, 'Kumar': 1.0, 'chief': 0.3333333333333333, 'minister': 0.3333333333333333, 'aide': 0.16666666666666666, 'remarked': 0.16666666666666666, 'Mocking': 0.16666666666666666, 'Rashtriya': 0.16666666666666666, 'Janata': 0.3333333333333333, 'Dal': 0.3333333333333333, 'RJD': 0.5, 'participation': 0.16666666666666666, 'joint': 0.16666666666666666, 'opposition': 0.3333333333333333, 'alliance': 0.3333333333333333, 'ruling': 0.3333333333333333, 'BJP': 0.16666666666666666, 'year': 0.16666666666666666, 'Lok': 0.3333333333333333, 'Sabha': 0.3333333333333333, 'polls': 0.16666666666666666, 'political': 0.16666666666666666, 'strategist': 0.16666666666666666, 'Prashant': 0.16666666666666666, 'Kishor': 0.5, 'Tuesday': 0.16666666666666666, 'wondered': 0.16666666666666666, 'role': 0.3333333333333333, 'party': 0.6666666666666666, '0': 0.16666666666666666, 'MPs': 0.5, 'leader': 0.3333333333333333, 'losing': 0.16666666666666666, 'foothold': 0.3333333333333333, 'state': 0.5, 'play': 0.3333333333333333, 'deciding': 0.16666666666666666, 'runs': 0.16666666666666666, 'country': 0.16666666666666666, '2024': 0.16666666666666666, 'general': 0.16666666666666666, 'elections': 0.16666666666666666, 'single': 0.16666666666666666, 'MP': 0.16666666666666666, '…': 0.6666666666666666, 'possible': 0.16666666666666666, 'decide': 0.16666666666666666, 'governs': 0.16666666666666666, 'nation': 0.16666666666666666, 'ji': 0.5, '42': 0.16666666666666666, 'legislators': 0.16666666666666666, '16': 0.16666666666666666, 'previous': 0.16666666666666666, 'powerful': 0.16666666666666666, 'day': 0.16666666666666666, 'national': 0.3333333333333333, 'politics': 0.3333333333333333, '”': 0.16666666666666666, 'says': 0.16666666666666666, 'video': 0.16666666666666666, 'uploaded': 0.16666666666666666, 'office': 0.16666666666666666, 'X': 0.16666666666666666, 'social': 0.16666666666666666, 'platform': 0.16666666666666666, 'earlier': 0.16666666666666666, 'known': 0.16666666666666666, 'Twitter': 0.16666666666666666, 'United': 0.16666666666666666, 'fierce': 0.16666666666666666, 'critic': 0.16666666666666666, 'continued': 0.16666666666666666, 'veteran': 0.16666666666666666, 'politician': 0.16666666666666666, '“': 0.16666666666666666, 'condition': 0.16666666666666666, 'bad': 0.16666666666666666, 'shrinking': 0.16666666666666666, 'look': 0.16666666666666666, 'order': 0.16666666666666666, 'precedence': 0.16666666666666666, 'bloc': 0.16666666666666666, 'Congress': 0.16666666666666666, 'largest': 0.16666666666666666, 'followed': 0.16666666666666666, 'Trinamool': 0.16666666666666666, 'DMK': 0.16666666666666666, 'parties': 0.16666666666666666, 'govern': 0.16666666666666666, 'states': 0.3333333333333333, 'authority': 0.16666666666666666, '20': 0.16666666666666666, '25': 0.16666666666666666, 'image': 0.16666666666666666, 'left': 0.16666666666666666, '”He': 0.16666666666666666, 'reiterated': 0.16666666666666666, 'Bihars': 0.16666666666666666, 'Mahagathbandhan': 0.16666666666666666, 'Grand': 0.16666666666666666, 'Alliance': 0.16666666666666666, 'relevant': 0.16666666666666666, 'matter': 0.16666666666666666}\n"
     ]
    }
   ],
   "source": [
    "print(word_frequencies)"
   ]
  },
  {
   "cell_type": "code",
   "execution_count": 33,
   "id": "ca82ce1a",
   "metadata": {},
   "outputs": [
    {
     "name": "stdout",
     "output_type": "stream",
     "text": [
      "[Only Bihar's media talks about Nitish Kumar, the chief minister's former aide remarked., Mocking both Nitish Kumar and Rashtriya Janata Dal (RJD) over their participation in the joint opposition alliance to take on the ruling BJP in next year's Lok Sabha polls, political strategist Prashant Kishor on Tuesday wondered what role a party with 0 Lok Sabha MPs (RJD) and a leader losing foothold in his own state (Kumar) would play in deciding who runs the country after the 2024 general elections., RJD does not have a single MP from Bihar…is it possible for such a party to decide who governs the nation?, Nitish ji has all of 42 legislators and 16 MPs due to his previous alliance., When you are becoming less powerful by the day, what role can you play in national politics?”, Kishor says in a video uploaded by his office on X, the social media platform earlier known as Twitter., Kishor, a former leader of Kumar's Janata Dal (United), who has, however, become a fierce critic of the Bihar chief minister, continued against the veteran politician: “Nitish ji's own condition is so bad, his foothold is shrinking in his own state., If you look at the order of precedence in the opposition bloc, the Congress is the largest party, followed by the Trinamool, then the DMK…parties which govern states with full authority and have 20-25 MPs., Nitish Kumar ji, however, has nothing…he has no party or image left., Only Bihar's media talks about Nitish Kumar…you go to other states, nobody talks about him., ”He reiterated that Bihars ruling Mahagathbandhan (Grand Alliance) is relevant only to the state, and does not matter in national politics.]\n"
     ]
    }
   ],
   "source": [
    "sentence_tokens = [sent for sent in doc.sents]\n",
    "print(sentence_tokens)"
   ]
  },
  {
   "cell_type": "code",
   "execution_count": 35,
   "id": "f8812a79",
   "metadata": {},
   "outputs": [],
   "source": [
    "sentence_scores = {}\n",
    "for sent in sentence_tokens:\n",
    "    for word in sent:\n",
    "        if word.text.lower() in word_frequencies.keys():\n",
    "            if sent not in sentence_scores.keys():\n",
    "                sentence_scores[sent] = word_frequencies[word.text.lower()]\n",
    "            else:\n",
    "                 sentence_scores[sent] += word_frequencies[word.text.lower()]\n",
    "                "
   ]
  },
  {
   "cell_type": "code",
   "execution_count": 36,
   "id": "45d4c102",
   "metadata": {},
   "outputs": [
    {
     "data": {
      "text/plain": [
       "{Only Bihar's media talks about Nitish Kumar, the chief minister's former aide remarked.: 2.0,\n",
       " Mocking both Nitish Kumar and Rashtriya Janata Dal (RJD) over their participation in the joint opposition alliance to take on the ruling BJP in next year's Lok Sabha polls, political strategist Prashant Kishor on Tuesday wondered what role a party with 0 Lok Sabha MPs (RJD) and a leader losing foothold in his own state (Kumar) would play in deciding who runs the country after the 2024 general elections.: 6.000000000000001,\n",
       " RJD does not have a single MP from Bihar…is it possible for such a party to decide who governs the nation?: 2.1666666666666665,\n",
       " Nitish ji has all of 42 legislators and 16 MPs due to his previous alliance.: 1.4999999999999998,\n",
       " When you are becoming less powerful by the day, what role can you play in national politics?”: 1.8333333333333333,\n",
       " Kishor says in a video uploaded by his office on X, the social media platform earlier known as Twitter.: 1.8333333333333335,\n",
       " Kishor, a former leader of Kumar's Janata Dal (United), who has, however, become a fierce critic of the Bihar chief minister, continued against the veteran politician: “Nitish ji's own condition is so bad, his foothold is shrinking in his own state.: 3.833333333333333,\n",
       " If you look at the order of precedence in the opposition bloc, the Congress is the largest party, followed by the Trinamool, then the DMK…parties which govern states with full authority and have 20-25 MPs.: 3.8333333333333326,\n",
       " Nitish Kumar ji, however, has nothing…he has no party or image left.: 2.1666666666666665,\n",
       " Only Bihar's media talks about Nitish Kumar…you go to other states, nobody talks about him.: 2.5,\n",
       " ”He reiterated that Bihars ruling Mahagathbandhan (Grand Alliance) is relevant only to the state, and does not matter in national politics.: 2.3333333333333335}"
      ]
     },
     "execution_count": 36,
     "metadata": {},
     "output_type": "execute_result"
    }
   ],
   "source": [
    "sentence_scores"
   ]
  },
  {
   "cell_type": "code",
   "execution_count": 37,
   "id": "1f293ba9",
   "metadata": {},
   "outputs": [],
   "source": [
    "from heapq import nlargest"
   ]
  },
  {
   "cell_type": "code",
   "execution_count": 38,
   "id": "ec096ffc",
   "metadata": {},
   "outputs": [
    {
     "data": {
      "text/plain": [
       "3"
      ]
     },
     "execution_count": 38,
     "metadata": {},
     "output_type": "execute_result"
    }
   ],
   "source": [
    "select_length = int(len(sentence_tokens)*0.3)\n",
    "select_length"
   ]
  },
  {
   "cell_type": "code",
   "execution_count": 39,
   "id": "4901f961",
   "metadata": {},
   "outputs": [],
   "source": [
    "summary = nlargest(select_length, sentence_scores, key = sentence_scores.get)"
   ]
  },
  {
   "cell_type": "code",
   "execution_count": 40,
   "id": "2b0694bc",
   "metadata": {},
   "outputs": [
    {
     "data": {
      "text/plain": [
       "[Mocking both Nitish Kumar and Rashtriya Janata Dal (RJD) over their participation in the joint opposition alliance to take on the ruling BJP in next year's Lok Sabha polls, political strategist Prashant Kishor on Tuesday wondered what role a party with 0 Lok Sabha MPs (RJD) and a leader losing foothold in his own state (Kumar) would play in deciding who runs the country after the 2024 general elections.,\n",
       " Kishor, a former leader of Kumar's Janata Dal (United), who has, however, become a fierce critic of the Bihar chief minister, continued against the veteran politician: “Nitish ji's own condition is so bad, his foothold is shrinking in his own state.,\n",
       " If you look at the order of precedence in the opposition bloc, the Congress is the largest party, followed by the Trinamool, then the DMK…parties which govern states with full authority and have 20-25 MPs.]"
      ]
     },
     "execution_count": 40,
     "metadata": {},
     "output_type": "execute_result"
    }
   ],
   "source": [
    "summary"
   ]
  },
  {
   "cell_type": "code",
   "execution_count": 41,
   "id": "cbc6db38",
   "metadata": {},
   "outputs": [],
   "source": [
    "final_summary = [word.text for word in summary]"
   ]
  },
  {
   "cell_type": "code",
   "execution_count": 42,
   "id": "99e7967c",
   "metadata": {},
   "outputs": [],
   "source": [
    "summary = ' '.join(final_summary)"
   ]
  },
  {
   "cell_type": "code",
   "execution_count": 45,
   "id": "28b4aedd",
   "metadata": {},
   "outputs": [
    {
     "name": "stdout",
     "output_type": "stream",
     "text": [
      "Only Bihar's media talks about Nitish Kumar, the chief minister's former aide remarked.Mocking both Nitish Kumar and Rashtriya Janata Dal (RJD) over their participation in the joint opposition alliance to take on the ruling BJP in next year's Lok Sabha polls, political strategist Prashant Kishor on Tuesday wondered what role a party with 0 Lok Sabha MPs (RJD) and a leader losing foothold in his own state (Kumar) would play in deciding who runs the country after the 2024 general elections.RJD does not have a single MP from Bihar…is it possible for such a party to decide who governs the nation? Nitish ji has all of 42 legislators and 16 MPs due to his previous alliance. When you are becoming less powerful by the day, what role can you play in national politics?” Kishor says in a video uploaded by his office on X, the social media platform earlier known as Twitter.Kishor, a former leader of Kumar's Janata Dal (United), who has, however, become a fierce critic of the Bihar chief minister, continued against the veteran politician: “Nitish ji's own condition is so bad, his foothold is shrinking in his own state. If you look at the order of precedence in the opposition bloc, the Congress is the largest party, followed by the Trinamool, then the DMK…parties which govern states with full authority and have 20-25 MPs. Nitish Kumar ji, however, has nothing…he has no party or image left. Only Bihar's media talks about Nitish Kumar…you go to other states, nobody talks about him.”He reiterated that Bihars ruling Mahagathbandhan (Grand Alliance) is relevant only to the state, and does not matter in national politics.\n"
     ]
    }
   ],
   "source": [
    "print(text)"
   ]
  },
  {
   "cell_type": "code",
   "execution_count": 44,
   "id": "c0316072",
   "metadata": {},
   "outputs": [
    {
     "name": "stdout",
     "output_type": "stream",
     "text": [
      "Mocking both Nitish Kumar and Rashtriya Janata Dal (RJD) over their participation in the joint opposition alliance to take on the ruling BJP in next year's Lok Sabha polls, political strategist Prashant Kishor on Tuesday wondered what role a party with 0 Lok Sabha MPs (RJD) and a leader losing foothold in his own state (Kumar) would play in deciding who runs the country after the 2024 general elections. Kishor, a former leader of Kumar's Janata Dal (United), who has, however, become a fierce critic of the Bihar chief minister, continued against the veteran politician: “Nitish ji's own condition is so bad, his foothold is shrinking in his own state. If you look at the order of precedence in the opposition bloc, the Congress is the largest party, followed by the Trinamool, then the DMK…parties which govern states with full authority and have 20-25 MPs.\n"
     ]
    }
   ],
   "source": [
    "print(summary)"
   ]
  },
  {
   "cell_type": "code",
   "execution_count": 46,
   "id": "e3923cf7",
   "metadata": {},
   "outputs": [
    {
     "data": {
      "text/plain": [
       "1629"
      ]
     },
     "execution_count": 46,
     "metadata": {},
     "output_type": "execute_result"
    }
   ],
   "source": [
    "len(text)"
   ]
  },
  {
   "cell_type": "code",
   "execution_count": 47,
   "id": "0ecf5896",
   "metadata": {},
   "outputs": [
    {
     "data": {
      "text/plain": [
       "862"
      ]
     },
     "execution_count": 47,
     "metadata": {},
     "output_type": "execute_result"
    }
   ],
   "source": [
    "len(summary)"
   ]
  },
  {
   "cell_type": "code",
   "execution_count": null,
   "id": "2c2c004d",
   "metadata": {},
   "outputs": [],
   "source": []
  }
 ],
 "metadata": {
  "kernelspec": {
   "display_name": "Python 3 (ipykernel)",
   "language": "python",
   "name": "python3"
  },
  "language_info": {
   "codemirror_mode": {
    "name": "ipython",
    "version": 3
   },
   "file_extension": ".py",
   "mimetype": "text/x-python",
   "name": "python",
   "nbconvert_exporter": "python",
   "pygments_lexer": "ipython3",
   "version": "3.11.2"
  }
 },
 "nbformat": 4,
 "nbformat_minor": 5
}
